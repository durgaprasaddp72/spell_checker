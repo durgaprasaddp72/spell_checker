{
  "nbformat": 4,
  "nbformat_minor": 0,
  "metadata": {
    "colab": {
      "provenance": [],
      "authorship_tag": "ABX9TyNEshsFiMawSzN0mcA4qaaw",
      "include_colab_link": true
    },
    "kernelspec": {
      "name": "python3",
      "display_name": "Python 3"
    },
    "language_info": {
      "name": "python"
    }
  },
  "cells": [
    {
      "cell_type": "markdown",
      "metadata": {
        "id": "view-in-github",
        "colab_type": "text"
      },
      "source": [
        "<a href=\"https://colab.research.google.com/github/durgaprasaddp72/spell_checker/blob/main/Spell_Cheacker.ipynb\" target=\"_parent\"><img src=\"https://colab.research.google.com/assets/colab-badge.svg\" alt=\"Open In Colab\"/></a>"
      ]
    },
    {
      "cell_type": "code",
      "source": [
        "import re\n",
        "from tqdm import tqdm#for calculating the timecomplexity of the for loop"
      ],
      "metadata": {
        "id": "ZxoO9UR3x5g3"
      },
      "execution_count": 1,
      "outputs": []
    },
    {
      "cell_type": "markdown",
      "source": [
        "## Finding the Unique Words"
      ],
      "metadata": {
        "id": "_cTwFtiDxVng"
      }
    },
    {
      "cell_type": "code",
      "execution_count": 2,
      "metadata": {
        "colab": {
          "base_uri": "https://localhost:8080/"
        },
        "id": "EUvMxDGOwtxz",
        "outputId": "a8514613-f914-470b-ac1b-22b41a1529c3"
      },
      "outputs": [
        {
          "output_type": "stream",
          "name": "stdout",
          "text": [
            "1115585\n",
            "32198\n"
          ]
        }
      ],
      "source": [
        "with open(\"big.txt\",'r')as f:\n",
        "  lines=f.readlines()\n",
        "  words=[]\n",
        "  for line in lines:\n",
        "    words+=re.findall('\\w+',line.lower())\n",
        "print(len(words))\n",
        "vocab=list(set(words))\n",
        "print(len(vocab))"
      ]
    },
    {
      "cell_type": "markdown",
      "source": [
        "## Finding the Probability Distribution"
      ],
      "metadata": {
        "id": "J0zOeAoyyqCk"
      }
    },
    {
      "cell_type": "code",
      "source": [
        "word_probability={}\n",
        "for word in tqdm(vocab):\n",
        "  word_probability[word]=float(words.count(word)/len(words))\n"
      ],
      "metadata": {
        "colab": {
          "base_uri": "https://localhost:8080/"
        },
        "id": "CqzfL51oxmjc",
        "outputId": "0371dfd0-a86d-4a0d-ff72-d3707d407136"
      },
      "execution_count": 3,
      "outputs": [
        {
          "output_type": "stream",
          "name": "stderr",
          "text": [
            "100%|██████████| 32198/32198 [12:57<00:00, 41.40it/s]\n"
          ]
        }
      ]
    },
    {
      "cell_type": "markdown",
      "source": [
        "## Text Preprocessing"
      ],
      "metadata": {
        "id": "Ef323oOXAsdJ"
      }
    },
    {
      "cell_type": "markdown",
      "source": [
        "#### splitting"
      ],
      "metadata": {
        "id": "NaaTVBBeAyAA"
      }
    },
    {
      "cell_type": "code",
      "source": [
        "def split(word):\n",
        "  parts=[]\n",
        "  for i in range(len(word)+1):\n",
        "    parts+=[(word[:i],word[i:])]\n",
        "  return parts"
      ],
      "metadata": {
        "id": "xX0BsqoQAqmv"
      },
      "execution_count": 4,
      "outputs": []
    },
    {
      "cell_type": "code",
      "source": [
        "split(\"durga\")"
      ],
      "metadata": {
        "colab": {
          "base_uri": "https://localhost:8080/"
        },
        "id": "zYRQ0aU2AqpS",
        "outputId": "aaf2c389-4b84-4d58-e2b3-faee59e93aa9"
      },
      "execution_count": 5,
      "outputs": [
        {
          "output_type": "execute_result",
          "data": {
            "text/plain": [
              "[('', 'durga'),\n",
              " ('d', 'urga'),\n",
              " ('du', 'rga'),\n",
              " ('dur', 'ga'),\n",
              " ('durg', 'a'),\n",
              " ('durga', '')]"
            ]
          },
          "metadata": {},
          "execution_count": 5
        }
      ]
    },
    {
      "cell_type": "markdown",
      "source": [
        "### delete"
      ],
      "metadata": {
        "id": "60NLnaNzBgGU"
      }
    },
    {
      "cell_type": "code",
      "source": [
        "def delete(word):\n",
        "  output=[]\n",
        "  for l,r in split(word):\n",
        "    output.append(l+r[1:])\n",
        "  return output\n",
        "delete(\"loave\")"
      ],
      "metadata": {
        "colab": {
          "base_uri": "https://localhost:8080/"
        },
        "id": "k3Jpc0KXAqr_",
        "outputId": "610d8deb-d168-4972-80d0-8f580a9967c3"
      },
      "execution_count": 6,
      "outputs": [
        {
          "output_type": "execute_result",
          "data": {
            "text/plain": [
              "['oave', 'lave', 'love', 'loae', 'loav', 'loave']"
            ]
          },
          "metadata": {},
          "execution_count": 6
        }
      ]
    },
    {
      "cell_type": "markdown",
      "source": [
        "### swap"
      ],
      "metadata": {
        "id": "kuCpqXnsCH1V"
      }
    },
    {
      "cell_type": "code",
      "source": [
        "def swap(word):\n",
        "  output=[]\n",
        "  for l,r in split(word):\n",
        "    if (len(r)>1):\n",
        "      output.append(l+r[1]+r[0]+r[2:])\n",
        "  return output\n",
        "swap(\"lvoe\")"
      ],
      "metadata": {
        "colab": {
          "base_uri": "https://localhost:8080/"
        },
        "id": "0OzI-_XyAquT",
        "outputId": "8dddee10-b5ea-4c88-9b4a-ef5d7432e229"
      },
      "execution_count": 7,
      "outputs": [
        {
          "output_type": "execute_result",
          "data": {
            "text/plain": [
              "['vloe', 'love', 'lveo']"
            ]
          },
          "metadata": {},
          "execution_count": 7
        }
      ]
    },
    {
      "cell_type": "markdown",
      "source": [
        "### replace"
      ],
      "metadata": {
        "id": "LY7HIRwOC6-P"
      }
    },
    {
      "cell_type": "code",
      "source": [
        "def replace(word):\n",
        "  characters=\"\".join([chr(i) for i in range(97,123)])#a-z assci(97-122)\n",
        "  output=[]\n",
        "  for l,r in split(word):\n",
        "    for char in characters:\n",
        "      output.append(l+char+r[1:])\n",
        "  return output\n",
        "\n",
        "len(replace('lave'))\n"
      ],
      "metadata": {
        "colab": {
          "base_uri": "https://localhost:8080/"
        },
        "id": "rLGB0hJQAqwo",
        "outputId": "5f9ca3c0-c577-4365-8d0b-a9e2f69e1ca3"
      },
      "execution_count": 8,
      "outputs": [
        {
          "output_type": "execute_result",
          "data": {
            "text/plain": [
              "130"
            ]
          },
          "metadata": {},
          "execution_count": 8
        }
      ]
    },
    {
      "cell_type": "markdown",
      "source": [
        "### insert"
      ],
      "metadata": {
        "id": "0tfYuSfSEQkn"
      }
    },
    {
      "cell_type": "code",
      "source": [
        "def insert(word):\n",
        "  characters=\"\".join([chr(i) for i in range(97,123)])\n",
        "  output=[]\n",
        "  for l,r in split(word):\n",
        "    for char in characters:\n",
        "      output.append(l+char+r)\n",
        "  return output\n",
        "\n",
        "len(insert('prsd'))\n",
        "#len(insert('lve'))\n"
      ],
      "metadata": {
        "colab": {
          "base_uri": "https://localhost:8080/"
        },
        "id": "AnjOjiE3DojY",
        "outputId": "7af74989-2002-4838-cd33-a95f29b9eeb5"
      },
      "execution_count": 9,
      "outputs": [
        {
          "output_type": "execute_result",
          "data": {
            "text/plain": [
              "130"
            ]
          },
          "metadata": {},
          "execution_count": 9
        }
      ]
    },
    {
      "cell_type": "markdown",
      "source": [
        "## combining all possible words"
      ],
      "metadata": {
        "id": "B3ojWdd_26ZF"
      }
    },
    {
      "cell_type": "code",
      "source": [
        "def edit(word):\n",
        "  return list(set(insert(word)+delete(word)+swap(word)+replace(word)))"
      ],
      "metadata": {
        "id": "xCd3dr4mDowL"
      },
      "execution_count": 12,
      "outputs": []
    },
    {
      "cell_type": "markdown",
      "source": [
        "## prdicting the word"
      ],
      "metadata": {
        "id": "-KMyttVb2IYm"
      }
    },
    {
      "cell_type": "code",
      "source": [
        "import pandas as pd"
      ],
      "metadata": {
        "id": "rVwtefCR4jD8"
      },
      "execution_count": 11,
      "outputs": []
    },
    {
      "cell_type": "code",
      "source": [
        "def spell_check_edit_1(word,count=5):\n",
        "  output=[]\n",
        "  suggested_words=edit(word)\n",
        "  for word in suggested_words:\n",
        "    if word in word_probability.keys():\n",
        "      output.append([word,word_probability[word]])\n",
        "  return list(pd.DataFrame(output,columns=[\"word\",\"prob\"]).sort_values(by=\"prob\",ascending=False).head(count)[\"word\"].values)"
      ],
      "metadata": {
        "id": "hyyVm2PXDozb"
      },
      "execution_count": 13,
      "outputs": []
    },
    {
      "cell_type": "code",
      "source": [
        "spell_check_edit_1(\"famili\")"
      ],
      "metadata": {
        "id": "Z67IGSPjDo2l",
        "colab": {
          "base_uri": "https://localhost:8080/"
        },
        "outputId": "3144fcc7-20e4-42af-efea-e453077a47b9"
      },
      "execution_count": 14,
      "outputs": [
        {
          "output_type": "execute_result",
          "data": {
            "text/plain": [
              "['family']"
            ]
          },
          "metadata": {},
          "execution_count": 14
        }
      ]
    },
    {
      "cell_type": "markdown",
      "source": [
        "some times the one edit not work well then we are going to use multiple edits inorder to find possible words."
      ],
      "metadata": {
        "id": "o62cowd84vxZ"
      }
    },
    {
      "cell_type": "code",
      "source": [
        "def spell_cheak_edit_2(word,count=5):\n",
        "  output=[]\n",
        "  suggested_words=edit(word)#level1 edit\n",
        "  for e1 in edit(word):\n",
        "    suggested_words+=edit(e1)#level 2 edit\n",
        "  suggested_words=list(set(suggested_words))\n",
        "\n",
        "  for word in suggested_words:\n",
        "    if word in word_probability.keys():\n",
        "      output.append([word,word_probability[word]])\n",
        "  return list(pd.DataFrame(output,columns=[\"word\",\"probability\"]).sort_values(by=\"word\",ascending=False).head(count)[\"word\"].values)\n",
        "spell_cheak_edit_2(\"fameli\")"
      ],
      "metadata": {
        "id": "6rBxFOEhDo5Z",
        "colab": {
          "base_uri": "https://localhost:8080/"
        },
        "outputId": "8969fa5e-5ab5-4bdd-e84f-0a1747339c60"
      },
      "execution_count": 18,
      "outputs": [
        {
          "output_type": "execute_result",
          "data": {
            "text/plain": [
              "['namely', 'lamely', 'family', 'famed', 'fame']"
            ]
          },
          "metadata": {},
          "execution_count": 18
        }
      ]
    },
    {
      "cell_type": "code",
      "source": [],
      "metadata": {
        "id": "L0xZLEPd5CZn"
      },
      "execution_count": null,
      "outputs": []
    },
    {
      "cell_type": "code",
      "source": [],
      "metadata": {
        "id": "RfGXuqr15Cce"
      },
      "execution_count": null,
      "outputs": []
    },
    {
      "cell_type": "code",
      "source": [],
      "metadata": {
        "id": "XxdvkqtI5Cf6"
      },
      "execution_count": null,
      "outputs": []
    },
    {
      "cell_type": "code",
      "source": [],
      "metadata": {
        "id": "ToqwWOW4Do8r"
      },
      "execution_count": 9,
      "outputs": []
    },
    {
      "cell_type": "code",
      "source": [],
      "metadata": {
        "id": "EsuqytzQAq1q"
      },
      "execution_count": 9,
      "outputs": []
    },
    {
      "cell_type": "code",
      "source": [],
      "metadata": {
        "id": "3p5mmu81Aq4M"
      },
      "execution_count": 9,
      "outputs": []
    },
    {
      "cell_type": "code",
      "source": [],
      "metadata": {
        "id": "3BAag_pzAq7k"
      },
      "execution_count": 9,
      "outputs": []
    },
    {
      "cell_type": "code",
      "source": [],
      "metadata": {
        "id": "lOtNpIUjzavz"
      },
      "execution_count": 9,
      "outputs": []
    }
  ]
}